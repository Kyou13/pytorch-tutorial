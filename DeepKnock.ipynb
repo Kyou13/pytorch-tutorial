{
 "cells": [
  {
   "cell_type": "markdown",
   "metadata": {},
   "source": [
    "# 前処理"
   ]
  },
  {
   "cell_type": "markdown",
   "metadata": {},
   "source": [
    "## データ読み込み"
   ]
  },
  {
   "cell_type": "code",
   "execution_count": null,
   "metadata": {},
   "outputs": [],
   "source": [
    "import cv2\n",
    "import numpy as np\n",
    "from glob import glob\n",
    "\n",
    "num_classes = 2\n",
    "img_height, img_width = 64, 64\n",
    "\n",
    "CLS = ['akahara', 'madara']\n",
    "\n",
    "def data_load(path, hf=False, vf=False, rot=False):\n",
    "    xs = []\n",
    "    ts = []\n",
    "    paths = []\n",
    "\n",
    "    # answer your code\n",
    "    for dir_path in glob(path + '/*'):\n",
    "        for path in glob(dir_path + '/*'):\n",
    "            x = cv2.imread(path) # (height, width, c(BGR))\n",
    "            x = cv2.resize(x, (img_width, img_height)).astype(np.float32) # to 64×64\n",
    "            x /= 255.\n",
    "            xs.append(xs)\n",
    "            \n",
    "            t =  0 if CLS[0] in path else 1  \n",
    "            ts.append(t)\n",
    "            paths.append(t)\n",
    "            \n",
    "            # 左右反転\n",
    "            if hf:\n",
    "                xs.append(x[:,::-1]) \n",
    "                ts.append(t)\n",
    "                paths.append(path)\n",
    "                \n",
    "            # 上下反転\n",
    "            if vf:\n",
    "                xs.append(x[::-1]) \n",
    "                ts.append(t)\n",
    "                paths.append(path)\n",
    "            \n",
    "            # 上下・左右反転\n",
    "            if vf and hf:\n",
    "                xs.append(x[::-1,::-1]) \n",
    "                ts.append(t)\n",
    "                paths.append(path)\n",
    "                \n",
    "    xs = np.array(xs, dtype=np.float32)        \n",
    "    ts = np.array(ts, dtype=np.int)\n",
    "    \n",
    "    # pytrochのinput [データ数、チャネル、画像の縦サイズ、画像の横サイズ]\n",
    "    xs = xs.transpose(0,3,1,2)\n",
    "    \n",
    "    return xs, ts, paths\n",
    "\n",
    "xs, ts, paths = data_load('./Dataset/train/images/')"
   ]
  },
  {
   "cell_type": "code",
   "execution_count": null,
   "metadata": {},
   "outputs": [],
   "source": [
    "xs.shape"
   ]
  },
  {
   "cell_type": "markdown",
   "metadata": {},
   "source": [
    "## ミニバッチ"
   ]
  },
  {
   "cell_type": "code",
   "execution_count": 22,
   "metadata": {},
   "outputs": [
    {
     "name": "stdout",
     "output_type": "stream",
     "text": [
      "[1 6 8]\n",
      "[ 9 13  4]\n",
      "[ 2 14 10]\n",
      "[ 7 15 11]\n",
      "[3 0 5]\n",
      "[6 8 5]\n",
      "[3 7 1]\n",
      "[ 9 13 15]\n",
      "[11  4 12]\n",
      "[10  0 14]\n",
      "[8 6 9]\n",
      "[14 15  1]\n",
      "[12  2 13]\n",
      "[10  4  0]\n",
      "[ 5 11  7]\n",
      "[3 8 6]\n",
      "[11  4 14]\n"
     ]
    }
   ],
   "source": [
    "mb = 3\n",
    "mbi = 0\n",
    "train_ind = np.arange(len(xs))\n",
    "np.random.seed(0)\n",
    "np.random.shuffle(train_ind)\n",
    "\n",
    "epoch_max = 3\n",
    "epoch = 0\n",
    "\n",
    "while epoch < epoch_max:\n",
    "    if mbi + mb > len(xs):\n",
    "        mb_ind = train_ind[mbi:]\n",
    "        np.random.shuffle(train_ind)\n",
    "        # hstackはaxis=1が違うとき, vstackはaxis=0が違うとき可能\n",
    "        mb_ind = np.hstack((mb_ind, train_ind[:(mb-(len(xs)-mbi))]))\n",
    "        mbi = mb - (len(xs)-mbi)\n",
    "        epoch += 1\n",
    "    else:\n",
    "        mb_ind = train_ind[mbi: mbi+mb]\n",
    "        mbi += mb\n",
    "            \n",
    "    print(mb_ind)"
   ]
  },
  {
   "cell_type": "code",
   "execution_count": 17,
   "metadata": {},
   "outputs": [
    {
     "data": {
      "text/plain": [
       "(3, 64, 64)"
      ]
     },
     "execution_count": 17,
     "metadata": {},
     "output_type": "execute_result"
    }
   ],
   "source": [
    "xs[0].shape"
   ]
  },
  {
   "cell_type": "code",
   "execution_count": null,
   "metadata": {},
   "outputs": [],
   "source": []
  }
 ],
 "metadata": {
  "kernelspec": {
   "display_name": "Python 3",
   "language": "python",
   "name": "python3"
  },
  "language_info": {
   "codemirror_mode": {
    "name": "ipython",
    "version": 3
   },
   "file_extension": ".py",
   "mimetype": "text/x-python",
   "name": "python",
   "nbconvert_exporter": "python",
   "pygments_lexer": "ipython3",
   "version": "3.7.3"
  }
 },
 "nbformat": 4,
 "nbformat_minor": 2
}
